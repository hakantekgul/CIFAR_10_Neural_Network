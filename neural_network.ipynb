{
 "cells": [
  {
   "cell_type": "code",
   "execution_count": 1,
   "metadata": {},
   "outputs": [],
   "source": [
    "import numpy as np\n",
    "import matplotlib.pyplot as plt\n",
    "\n",
    "from utils.data_process import get_CIFAR10_data\n",
    "from models.neural_net import NeuralNetwork\n",
    "from kaggle_submission import output_submission_csv\n",
    "\n",
    "%matplotlib inline\n",
    "plt.rcParams['figure.figsize'] = (10.0, 8.0) # set default size of plots\n",
    "plt.rcParams['image.interpolation'] = 'nearest'\n",
    "plt.rcParams['image.cmap'] = 'gray'\n",
    "\n",
    "# for auto-reloading external modules\n",
    "# see http://stackoverflow.com/questions/1907993/autoreload-of-modules-in-ipython\n",
    "%load_ext autoreload\n",
    "%autoreload 2"
   ]
  },
  {
   "cell_type": "markdown",
   "metadata": {},
   "source": [
    "# Loading CIFAR-10\n",
    "Now that you have implemented a neural network that passes gradient checks and works on toy data, you will test your network on the CIFAR-10 dataset."
   ]
  },
  {
   "cell_type": "code",
   "execution_count": 2,
   "metadata": {},
   "outputs": [],
   "source": [
    "# You can change these numbers for experimentation\n",
    "# For submission be sure they are set to the default values \n",
    "TRAIN_IMAGES = 49000\n",
    "VAL_IMAGES = 1000\n",
    "TEST_IMAGES = 5000\n",
    "\n",
    "data = get_CIFAR10_data(TRAIN_IMAGES, VAL_IMAGES, TEST_IMAGES)\n",
    "X_train, y_train = data['X_train'], data['y_train']\n",
    "X_val, y_val = data['X_val'], data['y_val']\n",
    "X_test, y_test = data['X_test'], data['y_test']"
   ]
  },
  {
   "cell_type": "markdown",
   "metadata": {},
   "source": [
    "# Train a network\n",
    "To train our network we will use SGD. In addition, we will adjust the learning rate with an exponential learning rate schedule as optimization proceeds; after each epoch, we will reduce the learning rate by multiplying it by a decay rate.\n",
    "\n",
    "You can try different numbers of layers and also the different activation functions that you implemented on the CIFAR-10 dataset below."
   ]
  },
  {
   "cell_type": "markdown",
   "metadata": {},
   "source": [
    "### You can see the hyperparameter tuning I performed for all possible networks..."
   ]
  },
  {
   "cell_type": "code",
   "execution_count": 3,
   "metadata": {},
   "outputs": [],
   "source": [
    "\n",
    "#best_acc = 0\n",
    "#for lay in [2,3]:\n",
    "#    for func in ['relu','sigmoid']:\n",
    "#        for reg_const in [0.00001,0.0001,0.001,0.01,0.1]:\n",
    "#            for lr in [1e-1,5e-2,1e-2,5e-3,1e-3,5e-4,1e-4]:\n",
    "#                for decay in [0.85,0.90,0.95,0.98,0.99]:\n",
    "#\n",
    "#                    input_size = 32 * 32 * 3\n",
    "#                    num_layers = lay\n",
    "#                    hidden_size = 120\n",
    "#                    hidden_sizes = [hidden_size]*(num_layers-1)\n",
    "#                    num_classes = 10\n",
    "#                    net = NeuralNetwork(input_size, hidden_sizes, num_classes, num_layers, nonlinearity=func)\n",
    "#\n",
    "#                    # Train the network\n",
    "#                    stats = net.train(X_train, y_train, X_val, y_val,\n",
    "#                                num_iters=8000, batch_size=200,\n",
    "#                                learning_rate=lr, learning_rate_decay=decay,\n",
    "#                                reg=reg_const, verbose=True)\n",
    "#\n",
    "#\n",
    "#                    # Predict on the validation set\n",
    "#                    val_acc = (net.predict(X_val) == y_val).mean()\n",
    "#                    print('Validation accuracy: ', val_acc)\n",
    "#                    print('reg = ',reg_const)\n",
    "#                    print('lr = ',lr)\n",
    "#                    print('decay = ',decay)\n",
    "\n"
   ]
  },
  {
   "cell_type": "code",
   "execution_count": 4,
   "metadata": {},
   "outputs": [
    {
     "name": "stdout",
     "output_type": "stream",
     "text": [
      "init\n",
      "init\n",
      "iteration 0 / 1000: loss 2.430229\n",
      "iteration 100 / 1000: loss 1.646622\n",
      "iteration 200 / 1000: loss 1.448840\n",
      "iteration 300 / 1000: loss 1.381484\n",
      "iteration 400 / 1000: loss 1.578057\n",
      "iteration 500 / 1000: loss 1.392193\n",
      "iteration 600 / 1000: loss 1.298584\n",
      "iteration 700 / 1000: loss 1.424386\n",
      "iteration 800 / 1000: loss 1.296613\n",
      "iteration 900 / 1000: loss 1.328818\n"
     ]
    }
   ],
   "source": [
    "# Train some random 2-layer RELU so that the next cells can execute\n",
    "input_size = 32 * 32 * 3\n",
    "num_layers = 2\n",
    "hidden_size = 120\n",
    "hidden_sizes = [hidden_size]*(num_layers-1)\n",
    "num_classes = 10\n",
    "net = NeuralNetwork(input_size, hidden_sizes, num_classes, num_layers, nonlinearity='relu')\n",
    "\n",
    "# Train the network\n",
    "stats = net.train(X_train, y_train, X_val, y_val,\n",
    "            num_iters=1000, batch_size=200,\n",
    "            learning_rate=0.1, learning_rate_decay=0.92,\n",
    "            reg=1e-05, verbose=True)\n",
    "\n",
    "# Predict on the validation set\n",
    "val_acc = (net.predict(X_val) == y_val).mean()"
   ]
  },
  {
   "cell_type": "markdown",
   "metadata": {},
   "source": [
    "# Graph loss and train/val accuracies\n",
    "\n",
    "Examining the loss graph along with the train and val accuracy graphs should help you gain some intuition for the hyperparameters you should try in the hyperparameter tuning below. It should also help with debugging any issues you might have with your network."
   ]
  },
  {
   "cell_type": "code",
   "execution_count": 5,
   "metadata": {},
   "outputs": [
    {
     "data": {
      "image/png": "[encoded data removed]",
      "text/plain": [
       "<Figure size 432x288 with 2 Axes>"
      ]
     },
     "metadata": {
      "needs_background": "light"
     },
     "output_type": "display_data"
    }
   ],
   "source": [
    "# Plot the loss function and train / validation accuracies\n",
    "plt.subplot(2, 1, 1)\n",
    "plt.plot(stats['loss_history'])\n",
    "plt.title('Loss history')\n",
    "plt.xlabel('Iteration')\n",
    "plt.ylabel('Loss')\n",
    "\n",
    "plt.subplot(2, 1, 2)\n",
    "plt.plot(stats['train_acc_history'], label='train')\n",
    "plt.plot(stats['val_acc_history'], label='val')\n",
    "plt.title('Classification accuracy history')\n",
    "plt.xlabel('Epoch')\n",
    "plt.ylabel('Clasification accuracy')\n",
    "plt.legend()\n",
    "plt.show()"
   ]
  },
  {
   "cell_type": "markdown",
   "metadata": {},
   "source": [
    "##### Hyperparameter tuning\n",
    "\n",
    "Once you have successfully trained a network you can tune your hyparameters to increase your accuracy.\n",
    "\n",
    "Based on the graphs of the loss function above you should be able to develop some intuition about what hyperparameter adjustments may be necessary. A very noisy loss implies that the learning rate might be too high, while a linearly decreasing loss would suggest that the learning rate may be too low. A large gap between training and validation accuracy would suggest overfitting due to large model without much regularization. No gap between training and validation accuracy would indicate low model capacity. \n",
    "\n",
    "\n",
    "You will compare networks of two and three layers using the different activation functions you implemented. \n",
    "\n",
    "The different hyperparameters you can experiment with are:\n",
    "- **Batch size**: We recommend you leave this at 200 initially which is the batch size we used. \n",
    "- **Number of iterations**: You can gain an intuition for how many iterations to run by checking when the validation accuracy plateaus in your train/val accuracy graph.\n",
    "- **Initialization** Weight initialization is very important for neural networks. We used the initialization `W = np.random.randn(n) / sqrt(n)` where `n` is the input dimension for layer corresponding to `W`. We recommend you stick with the given initializations, but you may explore modifying these. Typical initialization practices: http://cs231n.github.io/neural-networks-2/#init\n",
    "- **Learning rate**: Generally from around 1e-4 to 1e-1 is a good range to explore according to our implementation.\n",
    "- **Learning rate decay**: We recommend a 0.95 decay to start.\n",
    "- **Hidden layer size**: You should explore up to around 120 units per layer. For three-layer network, we fixed the two hidden layers to be the same size when obtaining the target numbers. However, you may experiment with having different size hidden layers.\n",
    "- **Regularization coefficient**: We recommend trying values in the range 0 to 0.1. \n",
    "\n",
    "\n",
    "\n",
    "Hints:\n",
    "- After getting a sense of the parameters by trying a few values yourself, you will likely want to write a few for loops to traverse over a set of hyperparameters.\n",
    "- If you find that your train loss is decreasing, but your train and val accuracy start to decrease rather than increase, your model likely started minimizing the regularization term. To prevent this you will need to decrease the regularization coefficient. \n"
   ]
  },
  {
   "cell_type": "markdown",
   "metadata": {},
   "source": [
    "## Two-layer Relu Activation Network "
   ]
  },
  {
   "cell_type": "code",
   "execution_count": 6,
   "metadata": {},
   "outputs": [
    {
     "name": "stdout",
     "output_type": "stream",
     "text": [
      "init\n",
      "init\n",
      "iteration 0 / 8000: loss 2.530514\n",
      "iteration 100 / 8000: loss 1.624295\n",
      "iteration 200 / 8000: loss 1.618215\n",
      "iteration 300 / 8000: loss 1.453273\n",
      "iteration 400 / 8000: loss 1.499370\n",
      "iteration 500 / 8000: loss 1.409842\n",
      "iteration 600 / 8000: loss 1.421226\n",
      "iteration 700 / 8000: loss 1.474478\n",
      "iteration 800 / 8000: loss 1.371159\n",
      "iteration 900 / 8000: loss 1.389621\n",
      "iteration 1000 / 8000: loss 1.331153\n",
      "iteration 1100 / 8000: loss 1.460440\n",
      "iteration 1200 / 8000: loss 1.244751\n",
      "iteration 1300 / 8000: loss 1.236718\n",
      "iteration 1400 / 8000: loss 1.132541\n",
      "iteration 1500 / 8000: loss 1.129094\n",
      "iteration 1600 / 8000: loss 1.078871\n",
      "iteration 1700 / 8000: loss 1.181176\n",
      "iteration 1800 / 8000: loss 1.134875\n",
      "iteration 1900 / 8000: loss 1.073893\n",
      "iteration 2000 / 8000: loss 1.135234\n",
      "iteration 2100 / 8000: loss 1.217103\n",
      "iteration 2200 / 8000: loss 1.181441\n",
      "iteration 2300 / 8000: loss 0.974404\n",
      "iteration 2400 / 8000: loss 1.014096\n",
      "iteration 2500 / 8000: loss 1.201125\n",
      "iteration 2600 / 8000: loss 0.968564\n",
      "iteration 2700 / 8000: loss 1.147591\n",
      "iteration 2800 / 8000: loss 0.924123\n",
      "iteration 2900 / 8000: loss 1.026919\n",
      "iteration 3000 / 8000: loss 1.100500\n",
      "iteration 3100 / 8000: loss 0.887542\n",
      "iteration 3200 / 8000: loss 1.119425\n",
      "iteration 3300 / 8000: loss 1.061125\n",
      "iteration 3400 / 8000: loss 1.084293\n",
      "iteration 3500 / 8000: loss 0.944849\n",
      "iteration 3600 / 8000: loss 0.928703\n",
      "iteration 3700 / 8000: loss 0.967818\n",
      "iteration 3800 / 8000: loss 0.925136\n",
      "iteration 3900 / 8000: loss 0.807640\n",
      "iteration 4000 / 8000: loss 0.938811\n",
      "iteration 4100 / 8000: loss 0.896866\n",
      "iteration 4200 / 8000: loss 0.839498\n",
      "iteration 4300 / 8000: loss 0.943307\n",
      "iteration 4400 / 8000: loss 1.032139\n",
      "iteration 4500 / 8000: loss 0.907328\n",
      "iteration 4600 / 8000: loss 0.862347\n",
      "iteration 4700 / 8000: loss 0.972989\n",
      "iteration 4800 / 8000: loss 1.041288\n",
      "iteration 4900 / 8000: loss 0.785959\n",
      "iteration 5000 / 8000: loss 0.801307\n",
      "iteration 5100 / 8000: loss 0.730245\n",
      "iteration 5200 / 8000: loss 0.785896\n",
      "iteration 5300 / 8000: loss 0.918937\n",
      "iteration 5400 / 8000: loss 0.826681\n",
      "iteration 5500 / 8000: loss 0.835608\n",
      "iteration 5600 / 8000: loss 0.783762\n",
      "iteration 5700 / 8000: loss 0.895379\n",
      "iteration 5800 / 8000: loss 0.597463\n",
      "iteration 5900 / 8000: loss 0.849549\n",
      "iteration 6000 / 8000: loss 0.798231\n",
      "iteration 6100 / 8000: loss 0.751054\n",
      "iteration 6200 / 8000: loss 0.759417\n",
      "iteration 6300 / 8000: loss 0.749807\n",
      "iteration 6400 / 8000: loss 0.845234\n",
      "iteration 6500 / 8000: loss 0.748533\n",
      "iteration 6600 / 8000: loss 0.767353\n",
      "iteration 6700 / 8000: loss 0.775376\n",
      "iteration 6800 / 8000: loss 0.829027\n",
      "iteration 6900 / 8000: loss 0.813268\n",
      "iteration 7000 / 8000: loss 0.915318\n",
      "iteration 7100 / 8000: loss 0.736020\n",
      "iteration 7200 / 8000: loss 0.971473\n",
      "iteration 7300 / 8000: loss 0.787937\n",
      "iteration 7400 / 8000: loss 0.785426\n",
      "iteration 7500 / 8000: loss 0.923363\n",
      "iteration 7600 / 8000: loss 0.789354\n",
      "iteration 7700 / 8000: loss 0.923247\n",
      "iteration 7800 / 8000: loss 0.781801\n",
      "iteration 7900 / 8000: loss 0.855166\n",
      "Validation accuracy:  0.522\n"
     ]
    }
   ],
   "source": [
    "# Use the results from your hyperparameter tuning to get the best specific activation network\n",
    "\n",
    "\n",
    "input_size = 32 * 32 * 3\n",
    "num_layers = 2\n",
    "hidden_size = 120\n",
    "hidden_sizes = [hidden_size]*(num_layers-1)\n",
    "num_classes = 10\n",
    "net_2_relu = NeuralNetwork(input_size, hidden_sizes, num_classes, num_layers, nonlinearity='relu')\n",
    "\n",
    "# The parameters below are the optimal hyperparameters\n",
    "stats = net_2_relu.train(X_train, y_train, X_val, y_val,\n",
    "            num_iters=8000, batch_size=200,\n",
    "            learning_rate=0.1, learning_rate_decay=0.92,\n",
    "            reg=1e-05, verbose=True)\n",
    "\n",
    "# Predict on the validation set\n",
    "val_acc = (net_2_relu.predict(X_val) == y_val).mean()\n",
    "print('Validation accuracy: ', val_acc)\n",
    "best_2layer_relu = net_2_relu # store the best model into this \n",
    "\n",
    "#################################################################################\n",
    "# TODO: Tune hyperparameters using the validation set. Store your best trained  #\n",
    "# model in best_2layer_relu.                                                    #\n",
    "#################################################################################\n",
    "## You can see the hyperparameter tuning in the above cells. \n"
   ]
  },
  {
   "cell_type": "markdown",
   "metadata": {},
   "source": [
    "## Two-layer Sigmoid Activation Network "
   ]
  },
  {
   "cell_type": "code",
   "execution_count": 7,
   "metadata": {},
   "outputs": [
    {
     "name": "stdout",
     "output_type": "stream",
     "text": [
      "init\n",
      "init\n",
      "iteration 0 / 8000: loss 2.474039\n",
      "iteration 100 / 8000: loss 1.836113\n",
      "iteration 200 / 8000: loss 1.846784\n",
      "iteration 300 / 8000: loss 1.811012\n",
      "iteration 400 / 8000: loss 1.746536\n",
      "iteration 500 / 8000: loss 1.767288\n",
      "iteration 600 / 8000: loss 1.806564\n",
      "iteration 700 / 8000: loss 1.771186\n",
      "iteration 800 / 8000: loss 1.757628\n",
      "iteration 900 / 8000: loss 1.744931\n",
      "iteration 1000 / 8000: loss 1.790012\n",
      "iteration 1100 / 8000: loss 1.642162\n",
      "iteration 1200 / 8000: loss 1.670019\n",
      "iteration 1300 / 8000: loss 1.617213\n",
      "iteration 1400 / 8000: loss 1.625599\n",
      "iteration 1500 / 8000: loss 1.614941\n",
      "iteration 1600 / 8000: loss 1.593045\n",
      "iteration 1700 / 8000: loss 1.676270\n",
      "iteration 1800 / 8000: loss 1.615718\n",
      "iteration 1900 / 8000: loss 1.591973\n",
      "iteration 2000 / 8000: loss 1.558853\n",
      "iteration 2100 / 8000: loss 1.543813\n",
      "iteration 2200 / 8000: loss 1.681874\n",
      "iteration 2300 / 8000: loss 1.528018\n",
      "iteration 2400 / 8000: loss 1.482165\n",
      "iteration 2500 / 8000: loss 1.589847\n",
      "iteration 2600 / 8000: loss 1.454395\n",
      "iteration 2700 / 8000: loss 1.580770\n",
      "iteration 2800 / 8000: loss 1.586484\n",
      "iteration 2900 / 8000: loss 1.531565\n",
      "iteration 3000 / 8000: loss 1.537148\n",
      "iteration 3100 / 8000: loss 1.466555\n",
      "iteration 3200 / 8000: loss 1.599590\n",
      "iteration 3300 / 8000: loss 1.490171\n",
      "iteration 3400 / 8000: loss 1.638729\n",
      "iteration 3500 / 8000: loss 1.538578\n",
      "iteration 3600 / 8000: loss 1.509402\n",
      "iteration 3700 / 8000: loss 1.671773\n",
      "iteration 3800 / 8000: loss 1.662049\n",
      "iteration 3900 / 8000: loss 1.601918\n",
      "iteration 4000 / 8000: loss 1.612942\n",
      "iteration 4100 / 8000: loss 1.468373\n",
      "iteration 4200 / 8000: loss 1.550058\n",
      "iteration 4300 / 8000: loss 1.447262\n",
      "iteration 4400 / 8000: loss 1.461326\n",
      "iteration 4500 / 8000: loss 1.601873\n",
      "iteration 4600 / 8000: loss 1.479235\n",
      "iteration 4700 / 8000: loss 1.478822\n",
      "iteration 4800 / 8000: loss 1.622155\n",
      "iteration 4900 / 8000: loss 1.625872\n",
      "iteration 5000 / 8000: loss 1.475751\n",
      "iteration 5100 / 8000: loss 1.565784\n",
      "iteration 5200 / 8000: loss 1.399543\n",
      "iteration 5300 / 8000: loss 1.500366\n",
      "iteration 5400 / 8000: loss 1.440975\n",
      "iteration 5500 / 8000: loss 1.275519\n",
      "iteration 5600 / 8000: loss 1.373491\n",
      "iteration 5700 / 8000: loss 1.424508\n",
      "iteration 5800 / 8000: loss 1.550299\n",
      "iteration 5900 / 8000: loss 1.573880\n",
      "iteration 6000 / 8000: loss 1.487570\n",
      "iteration 6100 / 8000: loss 1.430558\n",
      "iteration 6200 / 8000: loss 1.458025\n",
      "iteration 6300 / 8000: loss 1.503126\n",
      "iteration 6400 / 8000: loss 1.463370\n",
      "iteration 6500 / 8000: loss 1.349995\n",
      "iteration 6600 / 8000: loss 1.402129\n",
      "iteration 6700 / 8000: loss 1.612262\n",
      "iteration 6800 / 8000: loss 1.561659\n",
      "iteration 6900 / 8000: loss 1.374121\n",
      "iteration 7000 / 8000: loss 1.491312\n",
      "iteration 7100 / 8000: loss 1.539013\n",
      "iteration 7200 / 8000: loss 1.388327\n",
      "iteration 7300 / 8000: loss 1.549693\n",
      "iteration 7400 / 8000: loss 1.457160\n",
      "iteration 7500 / 8000: loss 1.505348\n",
      "iteration 7600 / 8000: loss 1.499124\n",
      "iteration 7700 / 8000: loss 1.474202\n",
      "iteration 7800 / 8000: loss 1.392990\n",
      "iteration 7900 / 8000: loss 1.449592\n",
      "Validation accuracy:  0.461\n"
     ]
    }
   ],
   "source": [
    "# Use the results from your hyperparameter tuning to get the best specific activation network\n",
    "\n",
    "input_size = 32 * 32 * 3\n",
    "num_layers = 2\n",
    "hidden_size = 120\n",
    "hidden_sizes = [hidden_size]*(num_layers-1)\n",
    "num_classes = 10\n",
    "net_2_sigmoid = NeuralNetwork(input_size, hidden_sizes, num_classes, num_layers, nonlinearity='sigmoid')\n",
    "\n",
    "# The parameters below are the optimal hyperparameters\n",
    "stats = net_2_sigmoid.train(X_train, y_train, X_val, y_val,\n",
    "            num_iters=8000, batch_size=200,\n",
    "            learning_rate=0.1, learning_rate_decay=0.95,\n",
    "            reg=0.001, verbose=True)\n",
    "\n",
    "# Predict on the validation set\n",
    "val_acc = (net_2_sigmoid.predict(X_val) == y_val).mean()\n",
    "print('Validation accuracy: ', val_acc)\n",
    "best_2layer_sigmoid = net_2_sigmoid # store the best model into this \n",
    "\n",
    "#################################################################################\n",
    "# TODO: Tune hyperparameters using the validation set. Store your best trained  #\n",
    "# model in best_2layer_sigmoid.                                                    #\n",
    "#################################################################################\n",
    "## You can see the hyperparameter tuning in the above cells. \n",
    "\n"
   ]
  },
  {
   "cell_type": "markdown",
   "metadata": {},
   "source": [
    "## Three-layer Relu Activation Network "
   ]
  },
  {
   "cell_type": "code",
   "execution_count": 8,
   "metadata": {},
   "outputs": [
    {
     "name": "stdout",
     "output_type": "stream",
     "text": [
      "init\n",
      "init\n",
      "init\n",
      "iteration 0 / 8000: loss 3.721303\n",
      "iteration 100 / 8000: loss 2.764893\n",
      "iteration 200 / 8000: loss 2.440249\n",
      "iteration 300 / 8000: loss 2.396039\n",
      "iteration 400 / 8000: loss 2.150403\n",
      "iteration 500 / 8000: loss 2.015707\n",
      "iteration 600 / 8000: loss 1.872550\n",
      "iteration 700 / 8000: loss 1.929660\n",
      "iteration 800 / 8000: loss 1.802353\n",
      "iteration 900 / 8000: loss 1.957919\n",
      "iteration 1000 / 8000: loss 1.653666\n",
      "iteration 1100 / 8000: loss 1.826837\n",
      "iteration 1200 / 8000: loss 1.726445\n",
      "iteration 1300 / 8000: loss 1.691375\n",
      "iteration 1400 / 8000: loss 1.559223\n",
      "iteration 1500 / 8000: loss 1.625019\n",
      "iteration 1600 / 8000: loss 1.566112\n",
      "iteration 1700 / 8000: loss 1.654174\n",
      "iteration 1800 / 8000: loss 1.566431\n",
      "iteration 1900 / 8000: loss 1.584496\n",
      "iteration 2000 / 8000: loss 1.515077\n",
      "iteration 2100 / 8000: loss 1.466819\n",
      "iteration 2200 / 8000: loss 1.397290\n",
      "iteration 2300 / 8000: loss 1.606468\n",
      "iteration 2400 / 8000: loss 1.448917\n",
      "iteration 2500 / 8000: loss 1.516058\n",
      "iteration 2600 / 8000: loss 1.489677\n",
      "iteration 2700 / 8000: loss 1.422923\n",
      "iteration 2800 / 8000: loss 1.474239\n",
      "iteration 2900 / 8000: loss 1.465944\n",
      "iteration 3000 / 8000: loss 1.403613\n",
      "iteration 3100 / 8000: loss 1.407837\n",
      "iteration 3200 / 8000: loss 1.389593\n",
      "iteration 3300 / 8000: loss 1.390049\n",
      "iteration 3400 / 8000: loss 1.489682\n",
      "iteration 3500 / 8000: loss 1.378952\n",
      "iteration 3600 / 8000: loss 1.384305\n",
      "iteration 3700 / 8000: loss 1.382874\n",
      "iteration 3800 / 8000: loss 1.374122\n",
      "iteration 3900 / 8000: loss 1.375915\n",
      "iteration 4000 / 8000: loss 1.330657\n",
      "iteration 4100 / 8000: loss 1.237382\n",
      "iteration 4200 / 8000: loss 1.364402\n",
      "iteration 4300 / 8000: loss 1.346947\n",
      "iteration 4400 / 8000: loss 1.343639\n",
      "iteration 4500 / 8000: loss 1.363401\n",
      "iteration 4600 / 8000: loss 1.263302\n",
      "iteration 4700 / 8000: loss 1.341632\n",
      "iteration 4800 / 8000: loss 1.372738\n",
      "iteration 4900 / 8000: loss 1.436249\n",
      "iteration 5000 / 8000: loss 1.280092\n",
      "iteration 5100 / 8000: loss 1.249518\n",
      "iteration 5200 / 8000: loss 1.314738\n",
      "iteration 5300 / 8000: loss 1.367420\n",
      "iteration 5400 / 8000: loss 1.355411\n",
      "iteration 5500 / 8000: loss 1.339003\n",
      "iteration 5600 / 8000: loss 1.343455\n",
      "iteration 5700 / 8000: loss 1.283693\n",
      "iteration 5800 / 8000: loss 1.361458\n",
      "iteration 5900 / 8000: loss 1.400732\n",
      "iteration 6000 / 8000: loss 1.226518\n",
      "iteration 6100 / 8000: loss 1.383804\n",
      "iteration 6200 / 8000: loss 1.236018\n",
      "iteration 6300 / 8000: loss 1.234750\n",
      "iteration 6400 / 8000: loss 1.363231\n",
      "iteration 6500 / 8000: loss 1.303888\n",
      "iteration 6600 / 8000: loss 1.354963\n",
      "iteration 6700 / 8000: loss 1.281206\n",
      "iteration 6800 / 8000: loss 1.270226\n",
      "iteration 6900 / 8000: loss 1.244267\n",
      "iteration 7000 / 8000: loss 1.247157\n",
      "iteration 7100 / 8000: loss 1.353707\n",
      "iteration 7200 / 8000: loss 1.259830\n",
      "iteration 7300 / 8000: loss 1.309866\n",
      "iteration 7400 / 8000: loss 1.424717\n",
      "iteration 7500 / 8000: loss 1.254232\n",
      "iteration 7600 / 8000: loss 1.242711\n",
      "iteration 7700 / 8000: loss 1.332465\n",
      "iteration 7800 / 8000: loss 1.294460\n",
      "iteration 7900 / 8000: loss 1.231132\n",
      "Validation accuracy:  0.556\n"
     ]
    }
   ],
   "source": [
    "# Use the results from your hyperparameter tuning to get the best specific activation network\n",
    "\n",
    "\n",
    "input_size = 32 * 32 * 3\n",
    "num_layers = 3\n",
    "hidden_size = 120\n",
    "hidden_sizes = [hidden_size]*(num_layers-1)\n",
    "num_classes = 10\n",
    "net_3_relu = NeuralNetwork(input_size, hidden_sizes, num_classes, num_layers, nonlinearity='relu')\n",
    "\n",
    "# The parameters below are the optimal hyperparameters\n",
    "stats = net_3_relu.train(X_train, y_train, X_val, y_val,\n",
    "            num_iters=8000, batch_size=200,\n",
    "            learning_rate=0.1, learning_rate_decay=0.9,\n",
    "            reg=0.01, verbose=True)\n",
    "\n",
    "# Predict on the validation set\n",
    "val_acc = (net_3_relu.predict(X_val) == y_val).mean()\n",
    "print('Validation accuracy: ', val_acc)\n",
    "best_3layer_relu = net_3_relu # store the best model into this \n",
    "\n",
    "#################################################################################\n",
    "# TODO: Tune hyperparameters using the validation set. Store your best trained  #\n",
    "# model in best_3layer_relu.                                                    #\n",
    "#################################################################################\n",
    "## You can see the hyperparameter tuning in the above cells. \n"
   ]
  },
  {
   "cell_type": "markdown",
   "metadata": {},
   "source": [
    "## Three-layer Sigmoid Activation Network "
   ]
  },
  {
   "cell_type": "code",
   "execution_count": 9,
   "metadata": {},
   "outputs": [
    {
     "name": "stdout",
     "output_type": "stream",
     "text": [
      "init\n",
      "init\n",
      "init\n",
      "iteration 0 / 8000: loss 2.419514\n",
      "iteration 100 / 8000: loss 2.099135\n",
      "iteration 200 / 8000: loss 1.903671\n",
      "iteration 300 / 8000: loss 1.973841\n",
      "iteration 400 / 8000: loss 1.836663\n",
      "iteration 500 / 8000: loss 1.803616\n",
      "iteration 600 / 8000: loss 1.848982\n",
      "iteration 700 / 8000: loss 1.726433\n",
      "iteration 800 / 8000: loss 1.764920\n",
      "iteration 900 / 8000: loss 1.695098\n",
      "iteration 1000 / 8000: loss 1.812219\n",
      "iteration 1100 / 8000: loss 1.833441\n",
      "iteration 1200 / 8000: loss 1.674015\n",
      "iteration 1300 / 8000: loss 1.774481\n",
      "iteration 1400 / 8000: loss 1.596163\n",
      "iteration 1500 / 8000: loss 1.746515\n",
      "iteration 1600 / 8000: loss 1.621956\n",
      "iteration 1700 / 8000: loss 1.646043\n",
      "iteration 1800 / 8000: loss 1.616881\n",
      "iteration 1900 / 8000: loss 1.745817\n",
      "iteration 2000 / 8000: loss 1.679695\n",
      "iteration 2100 / 8000: loss 1.664153\n",
      "iteration 2200 / 8000: loss 1.564219\n",
      "iteration 2300 / 8000: loss 1.640000\n",
      "iteration 2400 / 8000: loss 1.617654\n",
      "iteration 2500 / 8000: loss 1.647644\n",
      "iteration 2600 / 8000: loss 1.605997\n",
      "iteration 2700 / 8000: loss 1.589580\n",
      "iteration 2800 / 8000: loss 1.653278\n",
      "iteration 2900 / 8000: loss 1.528517\n",
      "iteration 3000 / 8000: loss 1.566788\n",
      "iteration 3100 / 8000: loss 1.612093\n",
      "iteration 3200 / 8000: loss 1.491606\n",
      "iteration 3300 / 8000: loss 1.575720\n",
      "iteration 3400 / 8000: loss 1.506546\n",
      "iteration 3500 / 8000: loss 1.574053\n",
      "iteration 3600 / 8000: loss 1.481299\n",
      "iteration 3700 / 8000: loss 1.511494\n",
      "iteration 3800 / 8000: loss 1.443156\n",
      "iteration 3900 / 8000: loss 1.478527\n",
      "iteration 4000 / 8000: loss 1.579363\n",
      "iteration 4100 / 8000: loss 1.447578\n",
      "iteration 4200 / 8000: loss 1.511135\n",
      "iteration 4300 / 8000: loss 1.282580\n",
      "iteration 4400 / 8000: loss 1.502649\n",
      "iteration 4500 / 8000: loss 1.539644\n",
      "iteration 4600 / 8000: loss 1.450449\n",
      "iteration 4700 / 8000: loss 1.557338\n",
      "iteration 4800 / 8000: loss 1.439653\n",
      "iteration 4900 / 8000: loss 1.266659\n",
      "iteration 5000 / 8000: loss 1.404137\n",
      "iteration 5100 / 8000: loss 1.395434\n",
      "iteration 5200 / 8000: loss 1.404982\n",
      "iteration 5300 / 8000: loss 1.384677\n",
      "iteration 5400 / 8000: loss 1.439434\n",
      "iteration 5500 / 8000: loss 1.361818\n",
      "iteration 5600 / 8000: loss 1.511322\n",
      "iteration 5700 / 8000: loss 1.407385\n",
      "iteration 5800 / 8000: loss 1.497310\n",
      "iteration 5900 / 8000: loss 1.453453\n",
      "iteration 6000 / 8000: loss 1.283367\n",
      "iteration 6100 / 8000: loss 1.397709\n",
      "iteration 6200 / 8000: loss 1.474158\n",
      "iteration 6300 / 8000: loss 1.277589\n",
      "iteration 6400 / 8000: loss 1.314703\n",
      "iteration 6500 / 8000: loss 1.382152\n",
      "iteration 6600 / 8000: loss 1.322069\n",
      "iteration 6700 / 8000: loss 1.316154\n",
      "iteration 6800 / 8000: loss 1.346458\n",
      "iteration 6900 / 8000: loss 1.288017\n",
      "iteration 7000 / 8000: loss 1.350204\n",
      "iteration 7100 / 8000: loss 1.413272\n",
      "iteration 7200 / 8000: loss 1.295996\n",
      "iteration 7300 / 8000: loss 1.372716\n",
      "iteration 7400 / 8000: loss 1.309431\n",
      "iteration 7500 / 8000: loss 1.203539\n",
      "iteration 7600 / 8000: loss 1.182341\n",
      "iteration 7700 / 8000: loss 1.341946\n",
      "iteration 7800 / 8000: loss 1.312075\n",
      "iteration 7900 / 8000: loss 1.262340\n",
      "Validation accuracy:  0.456\n"
     ]
    }
   ],
   "source": [
    "# Use the results from your hyperparameter tuning to get the best specific activation network\n",
    "\n",
    "\n",
    "input_size = 32 * 32 * 3\n",
    "num_layers = 3\n",
    "hidden_size = 120\n",
    "hidden_sizes = [hidden_size]*(num_layers-1)\n",
    "num_classes = 10\n",
    "net_3_sigmoid = NeuralNetwork(input_size, hidden_sizes, num_classes, num_layers, nonlinearity='sigmoid')\n",
    "\n",
    "# The parameters below are the optimal hyperparameters\n",
    "stats = net_3_sigmoid.train(X_train, y_train, X_val, y_val,\n",
    "            num_iters=8000, batch_size=200,\n",
    "            learning_rate=0.1, learning_rate_decay=0.99,\n",
    "            reg=0.0001, verbose=True)\n",
    "\n",
    "# Predict on the validation set\n",
    "val_acc = (net_3_sigmoid.predict(X_val) == y_val).mean()\n",
    "print('Validation accuracy: ', val_acc)\n",
    "best_3layer_sigmoid = net_3_sigmoid # store the best model into this \n",
    "\n",
    "#################################################################################\n",
    "# TODO: Tune hyperparameters using the validation set. Store your best trained  #\n",
    "# model in best_3layer_sigmoid.                                                    #\n",
    "#################################################################################\n",
    "## You can see the hyperparameter tuning in the above cells. \n"
   ]
  },
  {
   "cell_type": "markdown",
   "metadata": {},
   "source": [
    "# Run on the test set\n",
    "When you are done experimenting, you should evaluate your final trained networks on the test set."
   ]
  },
  {
   "cell_type": "code",
   "execution_count": 10,
   "metadata": {},
   "outputs": [
    {
     "name": "stdout",
     "output_type": "stream",
     "text": [
      "Two-layer relu\n",
      "Test accuracy:  0.5288\n"
     ]
    }
   ],
   "source": [
    "print('Two-layer relu')\n",
    "test_acc = (best_2layer_relu.predict(X_test) == y_test).mean()\n",
    "print('Test accuracy: ', test_acc)"
   ]
  },
  {
   "cell_type": "code",
   "execution_count": 11,
   "metadata": {},
   "outputs": [
    {
     "name": "stdout",
     "output_type": "stream",
     "text": [
      "Two-layer sigmoid\n",
      "Test accuracy:  0.483\n"
     ]
    }
   ],
   "source": [
    "print('Two-layer sigmoid')\n",
    "test_acc = (best_2layer_sigmoid.predict(X_test) == y_test).mean()\n",
    "print('Test accuracy: ', test_acc)"
   ]
  },
  {
   "cell_type": "code",
   "execution_count": 12,
   "metadata": {},
   "outputs": [
    {
     "name": "stdout",
     "output_type": "stream",
     "text": [
      "Three-layer relu\n",
      "Test accuracy:  0.5506\n"
     ]
    }
   ],
   "source": [
    "print('Three-layer relu')\n",
    "test_acc = (best_3layer_relu.predict(X_test) == y_test).mean()\n",
    "print('Test accuracy: ', test_acc)"
   ]
  },
  {
   "cell_type": "code",
   "execution_count": 13,
   "metadata": {},
   "outputs": [
    {
     "name": "stdout",
     "output_type": "stream",
     "text": [
      "Three-layer sigmoid\n",
      "Test accuracy:  0.4886\n"
     ]
    }
   ],
   "source": [
    "print('Three-layer sigmoid')\n",
    "test_acc = (best_3layer_sigmoid.predict(X_test) == y_test).mean()\n",
    "print('Test accuracy: ', test_acc)"
   ]
  },
  {
   "cell_type": "markdown",
   "metadata": {},
   "source": [
    "# Kaggle output\n",
    "\n",
    "Once you are satisfied with your solution and test accuracy output a file to submit your test set predictions to the Kaggle for Assignment 2 Neural Network. Use the following code to do so:"
   ]
  },
  {
   "cell_type": "code",
   "execution_count": 14,
   "metadata": {},
   "outputs": [],
   "source": [
    "output_submission_csv('nn_2layer_relu_submission.csv', best_2layer_relu.predict(X_test))"
   ]
  },
  {
   "cell_type": "code",
   "execution_count": 15,
   "metadata": {},
   "outputs": [],
   "source": [
    "output_submission_csv('nn_2layer_sigmoid_submission.csv', best_2layer_sigmoid.predict(X_test))"
   ]
  },
  {
   "cell_type": "code",
   "execution_count": 16,
   "metadata": {},
   "outputs": [],
   "source": [
    "output_submission_csv('nn_3layer_relu_submission.csv', best_3layer_relu.predict(X_test))"
   ]
  },
  {
   "cell_type": "code",
   "execution_count": 17,
   "metadata": {},
   "outputs": [],
   "source": [
    "output_submission_csv('nn_3layer_sigmoid_submission.csv', best_3layer_sigmoid.predict(X_test))"
   ]
  },
  {
   "cell_type": "code",
   "execution_count": null,
   "metadata": {},
   "outputs": [],
   "source": []
  }
 ],
 "metadata": {
  "kernelspec": {
   "display_name": "Python 3",
   "language": "python",
   "name": "python3"
  },
  "language_info": {
   "codemirror_mode": {
    "name": "ipython",
    "version": 3
   },
   "file_extension": ".py",
   "mimetype": "text/x-python",
   "name": "python",
   "nbconvert_exporter": "python",
   "pygments_lexer": "ipython3",
   "version": "3.7.0"
  }
 },
 "nbformat": 4,
 "nbformat_minor": 1
}
